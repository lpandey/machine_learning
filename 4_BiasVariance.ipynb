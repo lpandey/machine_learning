{
 "cells": [
  {
   "cell_type": "markdown",
   "metadata": {},
   "source": [
    "# Exploring bias and variance using regularized linear and polynomial regression"
   ]
  },
  {
   "cell_type": "markdown",
   "metadata": {},
   "source": [
    "This module explores bias and varience properties using Linear and Polynomial Regression. I was inspired to do this work after having taken [Andrew Ng's Machine Learning course on Coursera](https://www.coursera.org/learn/machine-learning). Most of the equations used herein come from his course notes. Most of them here are implemented in vectorized form."
   ]
  },
  {
   "cell_type": "markdown",
   "metadata": {},
   "source": [
    "Linear regression was explored in [this](https://github.com/lpandey/machine_learning/blob/main/linRegr.ipynb) module. Here I will include only the relevant regularized equations.\n",
    "\n",
    "### Hypothesis\n",
    "$\\hat{y} = h_\\theta(x) = \\theta^{T}x$\n",
    "\n",
    "### Cost function\n",
    "\n",
    "$J(\\theta) = \\frac{1}{2m} \\sum\\limits_{i=1}^{m} \\left(\\hat{y_i} - y_i\\right)^2 + \\frac{\\lambda}{2m} \\sum\\limits_{j=1}^{n} \\theta_j^2$\n",
    "\n",
    "### Gradient of the cost function\n",
    "$\\frac{\\partial J(\\theta)}{\\partial \\theta_j} = \\left(\\frac{1}{m} \\sum\\limits_{i=1}^{m} \\left(\\hat{y_i} - y_i\\right)x_j \\right) + \\frac{\\lambda}{m}\\theta_j$$J(\\theta) = \\frac{1}{2m} \\sum\\limits_{i=1}^{m} \\left(\\hat{y_i} - y_i\\right)^2$\n",
    "\n",
    "### Gradient Descent\n",
    "At every step of the *gradient descent*, the parameters $\\theta$ is updated as:\n",
    "\n",
    "$\\theta_j = \\theta_j - \\alpha \\frac{1}{m} \\sum\\limits_{i=1}^{m} \\left(\\hat{y_i} - y_i\\right)x_j^i$\n",
    "\n",
    "**Note**, Here, $\\lambda$ is the regularization parameter, $\\alpha$ is the *learning rate*, and $j$ and $i$ are index elements of sample size $m$ and feature size $n$ (includes bias), respectively. Also note, the bias term $\\theta_0$ is not regularized (applies to both cost function and its gradient).\n",
    "\n",
    "### Exact Solution\n",
    "The Normal Equation (closed-form solution) for regularized linear regression is:\n",
    "\n",
    "$\\theta = \\left(X^TX+ \\lambda I \\right)^{-1}X^Ty$\n",
    "\n",
    "*I* here is the identity matrix (n by n including the bias feature)."
   ]
  },
  {
   "cell_type": "markdown",
   "metadata": {},
   "source": [
    "## Model Implementation"
   ]
  },
  {
   "cell_type": "code",
   "execution_count": 1,
   "metadata": {},
   "outputs": [],
   "source": [
    "# import modules\n",
    "%matplotlib inline\n",
    "import scipy.io\n",
    "import copy\n",
    "import numpy as np\n",
    "import matplotlib as mpl\n",
    "import matplotlib.pyplot as plt\n",
    "\n",
    "# matplotlib plot settings\n",
    "mpl.rc('axes', labelsize=14)\n",
    "mpl.rc('axes', titlesize=14)\n",
    "mpl.rc('xtick', labelsize=12)\n",
    "mpl.rc('ytick', labelsize=12)\n",
    "#plt.rc('lines', linewidth=2.5)"
   ]
  },
  {
   "cell_type": "code",
   "execution_count": 2,
   "metadata": {},
   "outputs": [],
   "source": [
    "# Utility Functions\n",
    "def featureNormalize(X):\n",
    "    '''\n",
    "    Feature scaling such that each feature in the normalized X\n",
    "    has mean of 0 and standard deviation of 1.  \n",
    "    '''\n",
    "    X_mean = np.mean(X, axis=0) # columns means\n",
    "    X_std = np.std(X, axis=0) # columns std. deviations\n",
    "    X_norm = (X - X_mean) / X_std # feature scaling\n",
    "    return X_norm, X_mean, X_std\n",
    "\n",
    "\n",
    "def closedFormSolution(X, y, reg=0):\n",
    "    '''\n",
    "    Normal equation (closed-form) solution of linear regression \n",
    "    '''\n",
    "    m, n = X.shape\n",
    "    I = np.eye((n))\n",
    "    return np.linalg.inv(X.T @ X + reg * I) @ X.T @ y\n",
    "\n",
    "\n",
    "def plotData(X, y, y_preds=False):\n",
    "    plt.plot(X, y, 'bx')\n",
    "    if isinstance(y_preds, np.ndarray): # predictions from model.predict\n",
    "        plt.plot(X, y_preds, 'r-')\n",
    "    plt.xlabel(\"Change in water level (x)\")\n",
    "    plt.ylabel(\"Water flowing out of the damn (y)\")\n",
    "    \n",
    "    \n",
    "def plotCostHistory(costs):\n",
    "    plt.plot(costs, 'r-')\n",
    "    plt.xlabel(\"iterations\")\n",
    "    plt.ylabel(\"cost\")"
   ]
  },
  {
   "cell_type": "code",
   "execution_count": 3,
   "metadata": {},
   "outputs": [],
   "source": [
    "class myLinearRegressionReg():\n",
    "    '''\n",
    "    My implementation of regularized Linear regression\n",
    "    '''\n",
    "    def __init__(self, lr=0.1, reg=0.1):\n",
    "        self.lr = lr # learning rate\n",
    "        self.reg = reg # regularization parameter\n",
    "        \n",
    "    def _costFunc(self, theta, y, h):\n",
    "        '''\n",
    "        Linear model cost function\n",
    "        '''\n",
    "        loss = 1/(2 * len(y)) * np.sum(np.power(h - y, 2))\n",
    "        # regularization skips bias\n",
    "        reg_loss = self.reg/(2*len(y)) * np.sum(np.power(theta[1:], 2))\n",
    "        return  loss + reg_loss\n",
    "                      \n",
    "    def _gradient(self, theta, X, y, h):\n",
    "        '''\n",
    "        Linear model gradient (of the cost function)\n",
    "        '''\n",
    "        gradient = 1/len(y) * (X.T @ (h - y))\n",
    "        # regularization skips bias\n",
    "        #reg_gradient = self.reg / len(y) * theta[1:]\n",
    "        # to avoid shape issues (for multiple features)\n",
    "        # we'll set local theta for bias = 0\n",
    "        _theta = copy.deepcopy(theta)\n",
    "        _theta[0] = 0\n",
    "        reg_gradient = self.reg / len(y) * _theta\n",
    "        return gradient + reg_gradient\n",
    "    \n",
    "    def gradient_descent(self, X, y, tol=1e-5):\n",
    "        '''\n",
    "        Gradient Descent to train linear regression model.\n",
    "        It is assumed that X already includes the bias term.\n",
    "        '''\n",
    "        # initialize\n",
    "        self.theta = np.ones(shape=(X.shape[1], 1))\n",
    "        self.costs = []\n",
    "        #print(f\"theta size: {self.theta.shape}\")\n",
    "        \n",
    "        while True:\n",
    "            h = X @ self.theta\n",
    "            #print(f\"h: {h.shape}\")\n",
    "            cost = self._costFunc(self.theta, y, h)\n",
    "            #print(f\"cost: {cost}\")\n",
    "            self.costs.append(cost)\n",
    "            gradients = self._gradient(self.theta, X, y, h)\n",
    "            #print(f\"gradient: {gradients}, {gradients.shape}\")\n",
    "            new_Theta = self.theta - self.lr * gradients\n",
    "            \n",
    "            if np.sum(abs(new_Theta - self.theta)) < tol:\n",
    "                break # stopping condition met\n",
    "                \n",
    "            self.theta = new_Theta # update Theta\n",
    "            #print(f\"theta: {self.theta}, {self.theta.shape}\")\n",
    "\n",
    "    \n",
    "    def predict(self, X):\n",
    "        '''\n",
    "        Linear model predictions\n",
    "        '''\n",
    "        return X @ self.theta # predictions"
   ]
  },
  {
   "cell_type": "markdown",
   "metadata": {},
   "source": [
    "## Loading dataset"
   ]
  },
  {
   "cell_type": "markdown",
   "metadata": {},
   "source": [
    "The dataset used here is from [Andrew Ng's Machine Learning course on Coursera](https://www.coursera.org/learn/machine-learning). The dataset is already split into training, cross validation, and train sets."
   ]
  },
  {
   "cell_type": "code",
   "execution_count": 4,
   "metadata": {},
   "outputs": [
    {
     "name": "stdout",
     "output_type": "stream",
     "text": [
      "dict_keys(['__header__', '__version__', '__globals__', 'X', 'y', 'Xtest', 'ytest', 'Xval', 'yval'])\n",
      "\n",
      "--shapes--\n",
      "X_train: (12, 1), y_train: (12, 1)\n",
      "X_valid: (21, 1), y_valid: (21, 1)\n",
      "X_test: (21, 1), y_test: (21, 1)\n",
      "Xb_train: (12, 2)\n",
      "Xb_valid: (21, 2)\n",
      "Xb_test: (21, 2)\n"
     ]
    },
    {
     "data": {
      "image/png": "[encoded data removed]",
      "text/plain": [
       "<Figure size 432x288 with 1 Axes>"
      ]
     },
     "metadata": {
      "needs_background": "light"
     },
     "output_type": "display_data"
    }
   ],
   "source": [
    "mat = scipy.io.loadmat('ex5data1.mat')\n",
    "print(mat.keys())\n",
    "\n",
    "X_train, y_train = mat[\"X\"], mat[\"y\"]\n",
    "X_valid, y_valid = mat[\"Xval\"], mat[\"yval\"]\n",
    "X_test, y_test = mat[\"Xtest\"], mat[\"ytest\"]\n",
    "\n",
    "print(\"\\n--shapes--\")\n",
    "print(f\"X_train: {X_train.shape}, y_train: {y_train.shape}\")\n",
    "print(f\"X_valid: {X_valid.shape}, y_valid: {y_valid.shape}\")\n",
    "print(f\"X_test: {X_test.shape}, y_test: {y_test.shape}\")\n",
    "\n",
    "# add bias\n",
    "Xb_train = np.c_[np.ones(shape=(len(X_train), 1)), X_train]\n",
    "Xb_valid = np.c_[np.ones(shape=(len(X_valid), 1)), X_valid]\n",
    "Xb_test = np.c_[np.ones(shape=(len(X_test), 1)), X_test]\n",
    "print(f\"Xb_train: {Xb_train.shape}\")\n",
    "print(f\"Xb_valid: {Xb_valid.shape}\")\n",
    "print(f\"Xb_test: {Xb_test.shape}\")\n",
    "\n",
    "# plot training data\n",
    "plotData(X_train, y_train)"
   ]
  },
  {
   "cell_type": "markdown",
   "metadata": {},
   "source": [
    "## Linear regression fit"
   ]
  },
  {
   "cell_type": "code",
   "execution_count": 5,
   "metadata": {},
   "outputs": [
    {
     "name": "stdout",
     "output_type": "stream",
     "text": [
      "CPU times: user 309 ms, sys: 17.2 ms, total: 326 ms\n",
      "Wall time: 316 ms\n",
      "\n",
      "theta (optimized):\n",
      " [[13.07765068]\n",
      " [ 0.36771774]]\n",
      "\n",
      "theta (closed-form soln.):\n",
      " [[13.08790351]\n",
      " [ 0.36777923]]\n"
     ]
    }
   ],
   "source": [
    "model = myLinearRegressionReg(lr=1e-3, reg=0)\n",
    "# the dataset seems to be very sensitive to learning rate\n",
    "# learning rate > 1e-3 made the cost explode\n",
    "%time model.gradient_descent(Xb_train, y_train, tol=1e-5)\n",
    "train_costs, train_theta = model.costs, model.theta\n",
    "print(f\"\\ntheta (optimized):\\n {train_theta}\\n\")\n",
    "theta_true = closedFormSolution(Xb_train, y_train)\n",
    "print(f\"theta (closed-form soln.):\\n {theta_true}\")"
   ]
  },
  {
   "cell_type": "code",
   "execution_count": 6,
   "metadata": {
    "scrolled": true
   },
   "outputs": [
    {
     "data": {
      "image/png": "[encoded data removed]",
      "text/plain": [
       "<Figure size 432x288 with 1 Axes>"
      ]
     },
     "metadata": {
      "needs_background": "light"
     },
     "output_type": "display_data"
    }
   ],
   "source": [
    "y_train_preds = model.predict(Xb_train)\n",
    "plotData(X_train, y_train, y_preds=y_train_preds)"
   ]
  },
  {
   "cell_type": "code",
   "execution_count": 7,
   "metadata": {
    "scrolled": false
   },
   "outputs": [
    {
     "data": {
      "image/png": "[encoded data removed]",
      "text/plain": [
       "<Figure size 432x288 with 1 Axes>"
      ]
     },
     "metadata": {
      "needs_background": "light"
     },
     "output_type": "display_data"
    }
   ],
   "source": [
    "# training set costs\n",
    "plotCostHistory(train_costs)"
   ]
  },
  {
   "cell_type": "markdown",
   "metadata": {},
   "source": [
    "## Learning curves\n",
    "\n",
    "The training error for a dataset is:\n",
    "\n",
    "$J_{train}(\\theta) = \\frac{1}{2m} \\sum\\limits_{i=1}^{m} \\left(\\hat{y_i} - y_i\\right)^2$\n",
    "\n",
    "**Note** for learning curves, the training set error is evaluated from subset of total training set samples (the size that was used to obtain the $\\theta$, whereas the cross validation error is evalauated from all validation samples."
   ]
  },
  {
   "cell_type": "code",
   "execution_count": 8,
   "metadata": {},
   "outputs": [],
   "source": [
    "# function to get training and validation set errors for learning curve\n",
    "def learningCurve(X, y, Xv, yv, lr=1e-3, reg=0):\n",
    "    '''\n",
    "    Generates train and cross-validation set errors to help plot\n",
    "    learning curve'''\n",
    "    m = len(y)\n",
    "    \n",
    "    #initializa\n",
    "    error_train = []\n",
    "    error_valid = []\n",
    "    \n",
    "    for i in range(1, m+1):\n",
    "        Xt, yt = X[:i], y[:i] # only i of m samples\n",
    "        model = myLinearRegressionReg(lr=lr, reg=reg)\n",
    "        model.gradient_descent(Xt, yt, tol=1e-5)\n",
    "        theta = model.theta  # from only m samples\n",
    "        # training error only for i of m samples\n",
    "        err_t = 1/(2*i) * np.sum(np.power(Xt @ theta - yt, 2))\n",
    "        error_train.append(err_t)\n",
    "        # validation error from all m samples\n",
    "        err_v = 1/(2*m) * np.sum(np.power(Xv @ theta - yv, 2))\n",
    "        error_valid.append(err_v)\n",
    "    \n",
    "    return error_train, error_valid\n",
    "\n",
    "# call function to get errors for learning curve\n",
    "error_train, error_valid = learningCurve(Xb_train, y_train,\n",
    "                                         Xb_valid, y_valid)"
   ]
  },
  {
   "cell_type": "code",
   "execution_count": 9,
   "metadata": {
    "scrolled": true
   },
   "outputs": [
    {
     "data": {
      "image/png": "[encoded data removed]",
      "text/plain": [
       "<Figure size 432x288 with 1 Axes>"
      ]
     },
     "metadata": {
      "needs_background": "light"
     },
     "output_type": "display_data"
    }
   ],
   "source": [
    "# plot learning curve\n",
    "def plotLearningCurve(error_train, error_valid):\n",
    "    plt.figure()\n",
    "    ntrs = range(1,len(error_train)+1) # number of training samples\n",
    "    plt.plot(ntrs, error_train, label=\"train\")\n",
    "    plt.plot(ntrs, error_valid, label=\"cross validation\")\n",
    "    plt.ylabel(\"Error\")\n",
    "    plt.xlabel(\"Number of training samples\")\n",
    "    plt.title(\"Learning curve for Linear Regression\")\n",
    "    #plt.axis([1,12, 0, 125])\n",
    "    plt.legend();\n",
    "    \n",
    "plotLearningCurve(error_train, error_valid)"
   ]
  },
  {
   "cell_type": "markdown",
   "metadata": {},
   "source": [
    "This above learning plot represents an **high bias (underfit)** problem where both $J(\\theta)_{train}$ and $J(\\theta)_{valid}$ are high and comparable - this was expected because the water flow appears to be non-linear with respect to the change in water level (based on the scatter plot of the training data above). This will be tackled with polynomial regression below. \n",
    "\n",
    "**High variance (overfit)** problem would represent low $J(\\theta)_{train}$ and $J(\\theta)_{valid} >> J(\\theta)_{train}$."
   ]
  },
  {
   "cell_type": "markdown",
   "metadata": {},
   "source": [
    "# Polynomial Regression"
   ]
  },
  {
   "cell_type": "markdown",
   "metadata": {},
   "source": [
    "The polynomial regression here has additional features that are simply higher orders of the original data:\n",
    "\n",
    "$\\hat{y} = h_\\theta(x) = \\theta_0 + \\theta_1 x$ <-- linear\n",
    "\n",
    "$\\hat{y} = h_\\theta(x) = \\theta_0 + \\theta_1 x + \\theta_2 x^2 + \\theta_3 x^3 + ...$ <-- polynomial\n",
    "\n",
    "However, with the assumptions $f_1 = x,  f_2 = x^2,  f_3 = x^3, ...$, the polynomial regression effectively turns into a linear model.\n",
    "\n",
    "$\\hat{y} = h_\\theta(f) = \\theta_0 + \\theta_1 f + \\theta_2 f_2 + \\theta_3 f_3 + ...$"
   ]
  },
  {
   "cell_type": "markdown",
   "metadata": {},
   "source": [
    "### Prepare polynomial data"
   ]
  },
  {
   "cell_type": "code",
   "execution_count": 10,
   "metadata": {},
   "outputs": [
    {
     "name": "stdout",
     "output_type": "stream",
     "text": [
      "--shapes--\n",
      "Xb_train_poly : (12, 9)\n",
      "Xb_valid_poly : (21, 9)\n",
      "Xb_test_poly  : (21, 9)\n"
     ]
    }
   ],
   "source": [
    "# add features of higher order\n",
    "maxOrder = 8\n",
    "X_train_poly = np.power(X_train, range(1,maxOrder+1)) # 1-8th power\n",
    "X_valid_poly = np.power(X_valid, range(1,maxOrder+1))\n",
    "X_test_poly  = np.power(X_test,  range(1,maxOrder+1))\n",
    "\n",
    "# feature normalize X_train_poly\n",
    "X_train_poly, means, stds = featureNormalize(X_train_poly)\n",
    "\n",
    "# use train set means & stds to feature normalize valid & test sets  \n",
    "X_valid_poly = X_valid_poly - means # each col mean 0 now \n",
    "X_test_poly  = X_test_poly  - means\n",
    "X_valid_poly = X_valid_poly / stds  # each col std 1 now\n",
    "X_test_poly = X_test_poly / stds\n",
    "\n",
    "# add bias column\n",
    "Xb_train_poly = np.c_[np.ones(shape=(len(X_train_poly), 1)), X_train_poly]\n",
    "Xb_valid_poly = np.c_[np.ones(shape=(len(X_valid_poly), 1)), X_valid_poly]\n",
    "Xb_test_poly  = np.c_[np.ones(shape=(len(X_test_poly),  1)), X_test_poly]\n",
    "\n",
    "print(\"--shapes--\")\n",
    "print(f\"Xb_train_poly : {Xb_train_poly.shape}\")\n",
    "print(f\"Xb_valid_poly : {Xb_valid_poly.shape}\")\n",
    "print(f\"Xb_test_poly  : {Xb_test_poly.shape}\")"
   ]
  },
  {
   "cell_type": "markdown",
   "metadata": {},
   "source": [
    "### Train polynomial"
   ]
  },
  {
   "cell_type": "code",
   "execution_count": 11,
   "metadata": {
    "scrolled": true
   },
   "outputs": [
    {
     "name": "stdout",
     "output_type": "stream",
     "text": [
      "CPU times: user 47.3 s, sys: 526 ms, total: 47.9 s\n",
      "Wall time: 48.9 s\n"
     ]
    }
   ],
   "source": [
    "model_poly = myLinearRegressionReg(lr=2.5e-4, reg=0)\n",
    "%time model_poly.gradient_descent(Xb_train_poly, y_train, tol=1e-5)"
   ]
  },
  {
   "cell_type": "code",
   "execution_count": 15,
   "metadata": {},
   "outputs": [
    {
     "name": "stdout",
     "output_type": "stream",
     "text": [
      "\n",
      "theta (optimized):\n",
      " [[11.21758933]\n",
      " [12.44576865]\n",
      " [11.1222019 ]\n",
      " [ 2.73530906]\n",
      " [-2.66779239]\n",
      " [-2.14324743]\n",
      " [-2.30877949]\n",
      " [-1.9654936 ]\n",
      " [-1.18517152]]\n",
      "\n",
      "theta (closed-form soln.):\n",
      " [[ 11.21758933]\n",
      " [  9.13124818]\n",
      " [ 18.17727033]\n",
      " [ 28.9301793 ]\n",
      " [-27.23824133]\n",
      " [-74.47076142]\n",
      " [  6.77178106]\n",
      " [ 60.68644113]\n",
      " [ 20.63841717]]\n"
     ]
    },
    {
     "data": {
      "image/png": "[encoded data removed]",
      "text/plain": [
       "<Figure size 432x288 with 1 Axes>"
      ]
     },
     "metadata": {
      "needs_background": "light"
     },
     "output_type": "display_data"
    }
   ],
   "source": [
    "theta_poly, costs_poly = model_poly.theta, model_poly.costs\n",
    "print(f\"\\ntheta (optimized):\\n {theta_poly}\\n\")\n",
    "theta_poly_true = closedFormSolution(Xb_train_poly, y_train)\n",
    "print(f\"theta (closed-form soln.):\\n {theta_poly_true}\")\n",
    "plotCostHistory(costs_poly)"
   ]
  },
  {
   "cell_type": "markdown",
   "metadata": {},
   "source": [
    "### Learning curve (polynomial)"
   ]
  },
  {
   "cell_type": "code",
   "execution_count": 16,
   "metadata": {},
   "outputs": [],
   "source": [
    "# get train and cross valid errors for learning curve\n",
    "err_train_poly, err_valid_poly = learningCurve(\n",
    "    Xb_train_poly, y_train, Xb_valid_poly, y_valid, lr=2.5e-4, reg=0)"
   ]
  },
  {
   "cell_type": "code",
   "execution_count": 17,
   "metadata": {
    "scrolled": true
   },
   "outputs": [
    {
     "data": {
      "image/png": "[encoded data removed]",
      "text/plain": [
       "<Figure size 432x288 with 1 Axes>"
      ]
     },
     "metadata": {
      "needs_background": "light"
     },
     "output_type": "display_data"
    }
   ],
   "source": [
    "# plot learning curve (poly)\n",
    "plotLearningCurve(err_train_poly, err_valid_poly)\n",
    "plt.title(f\"Learning curve for Polynomial Regression (reg={0})\")\n",
    "plt.axis([0.5, 12.5, -2, 110]);"
   ]
  },
  {
   "cell_type": "markdown",
   "metadata": {},
   "source": [
    "The above learning curve indicates this model represents an **high variance (overfit)** problem as training error is low and there is large gap between cross validation and training erros (cv error >> training error)."
   ]
  },
  {
   "cell_type": "markdown",
   "metadata": {},
   "source": [
    "### Plot Polyfit"
   ]
  },
  {
   "cell_type": "code",
   "execution_count": 18,
   "metadata": {},
   "outputs": [
    {
     "data": {
      "image/png": "[encoded data removed]",
      "text/plain": [
       "<Figure size 432x288 with 1 Axes>"
      ]
     },
     "metadata": {
      "needs_background": "light"
     },
     "output_type": "display_data"
    }
   ],
   "source": [
    "x = np.linspace(-60, 60, 500).reshape(-1,1)\n",
    "\n",
    "# feature normalize x\n",
    "x_poly = np.power(x, range(1,maxOrder+1))\n",
    "x_poly = x_poly - means\n",
    "x_poly = x_poly / stds\n",
    "\n",
    "# add bias\n",
    "xb_poly = np.c_[np.ones(shape=(len(x_poly), 1)), x_poly]\n",
    "\n",
    "y = xb_poly @ theta_poly\n",
    "# plot\n",
    "plotData(X_train, y_train, y_preds=0)\n",
    "plt.plot(x, y, 'r--')\n",
    "plt.title(f\"Polynomial regression (reg={0})\")\n",
    "plt.axis([-65, 65, -20, 50]);"
   ]
  },
  {
   "cell_type": "markdown",
   "metadata": {},
   "source": [
    "The polyfit curve above confirms the *high variance (overfit)* problem assessment from the learning curve - the polyfit fits the data points well however it rapidly falls off outside the range of the datapoints (on both sides).\n",
    "\n",
    "The overfit was expeted because of the use of high order polynomials in the polyfit dataset. One way to tackle the overfit problem is by using appropriate regularization parameter. The section below tries to do that by comparing training error against cross validation error for a range of regularization parameters."
   ]
  },
  {
   "cell_type": "markdown",
   "metadata": {},
   "source": [
    "### Regularization parameter search using training and cross validation errors"
   ]
  },
  {
   "cell_type": "code",
   "execution_count": 19,
   "metadata": {},
   "outputs": [],
   "source": [
    "# define function to get training and cross validation errors\n",
    "# with varying regularization parameter\n",
    "def helpSelectReg(Xt, yt, Xv, yv, lr=2.5e-4, regs=[0]):\n",
    "    '''regs is a list of regulization parameter values'''\n",
    "    errs_t, errs_v = [], []\n",
    "    m_t, m_v = len(yt), len(yv)\n",
    "    for reg in regs:\n",
    "        model_reg = myLinearRegressionReg(lr=lr, reg=reg)\n",
    "        model_reg.gradient_descent(Xt, yt, tol=1e-5)\n",
    "        theta_reg, costs_reg = model_reg.theta, model_reg.costs\n",
    "        # use optimized theta to obtain errors. NOTE the errors here\n",
    "        # do not include regularization terms explicitely as is\n",
    "        # in the gradient descent optimization because the it is already\n",
    "        # used there to optimize theta\n",
    "        err_t = 1/(2*m_t) * np.sum(np.power(Xt @ theta_reg - yt, 2))\n",
    "        errs_t.append(err_t)\n",
    "        err_v = 1/(2*m_v) * np.sum(np.power(Xv @ theta_reg - yv, 2))\n",
    "        errs_v.append(err_v)\n",
    "        \n",
    "    return errs_t, errs_v"
   ]
  },
  {
   "cell_type": "markdown",
   "metadata": {},
   "source": [
    "**Note**: The training, cross validation, and test set errors do not include the regularization terms directly (or explicitly) in the error evaluation. This is to avoid double contributions because its effect is already implemented on optimizing the theta parameters during gradient descent."
   ]
  },
  {
   "cell_type": "code",
   "execution_count": 20,
   "metadata": {},
   "outputs": [],
   "source": [
    "regs = [0, 0.001, 0.003, 0.01, 0.03, 0.1, 0.3, 1, 3, 10]\n",
    "errs_t, errs_v = helpSelectReg(Xb_train_poly, y_train, \n",
    "                        Xb_valid_poly, y_valid, lr=2.5e-4, regs=regs)"
   ]
  },
  {
   "cell_type": "code",
   "execution_count": 21,
   "metadata": {
    "scrolled": true
   },
   "outputs": [
    {
     "data": {
      "image/png": "[encoded data removed]",
      "text/plain": [
       "<Figure size 432x288 with 1 Axes>"
      ]
     },
     "metadata": {
      "needs_background": "light"
     },
     "output_type": "display_data"
    }
   ],
   "source": [
    "# plot learning curve for selecting regularization paramter\n",
    "plt.figure()\n",
    "plt.plot(regs, errs_t, label=\"train\")\n",
    "plt.plot(regs, errs_v, label=\"validation\")\n",
    "plt.ylabel('Error')\n",
    "plt.xlabel(\"Regularization parameter\")\n",
    "plt.title(\"Learning curve for Polynomial Regression\")\n",
    "plt.legend();"
   ]
  },
  {
   "cell_type": "markdown",
   "metadata": {},
   "source": [
    "The above learning curve suggests regularization parameter of about 2.5 yields training and cross validation errors about equal to one another. This value will be used to train model and evaluate error on the test set."
   ]
  },
  {
   "cell_type": "markdown",
   "metadata": {},
   "source": [
    "## Evaluating test set error"
   ]
  },
  {
   "cell_type": "code",
   "execution_count": 22,
   "metadata": {},
   "outputs": [
    {
     "name": "stdout",
     "output_type": "stream",
     "text": [
      "test set error: 3.1003\n"
     ]
    }
   ],
   "source": [
    "# train model based on parameters searched above\n",
    "model = myLinearRegressionReg(lr=2.5e-4, reg=2.5)\n",
    "model.gradient_descent(Xb_train_poly, y_train, tol=1e-5)\n",
    "theta, costs = model.theta, model.costs\n",
    "m_test = len(y_test)\n",
    "err_test = 1/(2*m_test) * np.sum(np.power(\n",
    "    Xb_test_poly @ theta - y_test, 2))\n",
    "print(f\"test set error: {err_test:.4f}\")"
   ]
  },
  {
   "cell_type": "code",
   "execution_count": null,
   "metadata": {},
   "outputs": [],
   "source": []
  }
 ],
 "metadata": {
  "kernelspec": {
   "display_name": "Python 3",
   "language": "python",
   "name": "python3"
  },
  "language_info": {
   "codemirror_mode": {
    "name": "ipython",
    "version": 3
   },
   "file_extension": ".py",
   "mimetype": "text/x-python",
   "name": "python",
   "nbconvert_exporter": "python",
   "pygments_lexer": "ipython3",
   "version": "3.7.9"
  }
 },
 "nbformat": 4,
 "nbformat_minor": 4
}
