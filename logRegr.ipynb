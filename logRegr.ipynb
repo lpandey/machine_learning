{
 "cells": [
  {
   "cell_type": "markdown",
   "metadata": {},
   "source": [
    "# Logistic Regression"
   ]
  },
  {
   "cell_type": "markdown",
   "metadata": {},
   "source": [
    "This is my attempt to implement Logistic Regression using Python3 and Numpy. I was inspired to do this work after having taken [Andrew Ng's Machine Learning course on Coursera](https://www.coursera.org/learn/machine-learning). Most of the equations used herein come from his course notes. Also most of the work here is implemented in vectorized form."
   ]
  },
  {
   "cell_type": "markdown",
   "metadata": {},
   "source": [
    "Logistic regression can be useful for classification problems - estimating probability for an outcome and setting a logistic threshold to determine if the outcome happens (or not).\n",
    "\n",
    "### Hypothesis\n",
    "The *hypothesis* $\\hat{y}$ for the logistic regression is:\n",
    "\n",
    "$\\hat{y} = g(\\theta^{T}x)$\n",
    "\n",
    "with the *sigmoid* function $g(z)$:\n",
    "\n",
    "$g(z) = \\dfrac{1}{1 + {\\rm e}^{-z}}$\n",
    "\n",
    "### Cost function\n",
    "The logistic regression cost function $J(\\theta)$ for dataset with $m$ samples and $n$ features can be evaluated as:\n",
    "\n",
    "$J(\\theta) = \\dfrac{1}{m} \\sum\\limits_{i=1}^{m} \\left[-y_i log(\\hat{y_i}) - (1 - y_i) log (1 - \\hat{y_i})\\right]$\n",
    "\n",
    "\n",
    "### Gradient of the cost function\n",
    "$\\frac{\\partial J(\\theta)}{\\partial \\theta_j} = \\dfrac{1}{m} \\sum\\limits_{i=1}^{m} \\left(\\hat{y_i} - y_i\\right)x_j^i$\n",
    "\n",
    "**Note**, the superscript $i$ on the $x_j$ term at the end is an index label (not exponent). I do this for brevity - to avoid having to use prenthesis around the $i$ index labels as Andrew Ng does in his notes (the standard way). Also a reminder that the $j$ and $i$ are index elements of $m$ and $n$, respectively.\n",
    "\n",
    "### Gradient Descent\n",
    "At every step of the *gradient descent*, the parameters $\\theta$ is updated as:\n",
    "\n",
    "$\\theta_j = \\theta_j - \\alpha \\dfrac{1}{m} \\sum\\limits_{i=1}^{m} \\left(\\hat{y_i} - y_i\\right)x_j^i$\n",
    "\n",
    "to achieve the lowest cost $J(\\theta)$. *Note* $\\alpha$ here is the *learning rate* and, the second term is simply the *gradient of the cost function* multiplied by the learning rate. This is where the method gets its name."
   ]
  },
  {
   "cell_type": "markdown",
   "metadata": {},
   "source": [
    "## Model Implementation"
   ]
  },
  {
   "cell_type": "code",
   "execution_count": 1,
   "metadata": {},
   "outputs": [],
   "source": [
    "# import modules\n",
    "%matplotlib inline\n",
    "import numpy as np\n",
    "import matplotlib as mpl\n",
    "import matplotlib.pyplot as plt\n",
    "\n",
    "# matplotlib plot settings\n",
    "mpl.rc('axes', labelsize=14)\n",
    "mpl.rc('xtick', labelsize=12)\n",
    "mpl.rc('ytick', labelsize=12)\n",
    "plt.rc('lines', linewidth=2.5)"
   ]
  },
  {
   "cell_type": "code",
   "execution_count": 2,
   "metadata": {},
   "outputs": [],
   "source": [
    "# Utility Functions\n",
    "def featureNormalize(X):\n",
    "    '''\n",
    "    Feature scaling such that each feature in the normalized X\n",
    "    has mean of 0 and standard deviation of 1.'''\n",
    "    X_mean = np.mean(X) # mean\n",
    "    X_std = np.std(X) # standard deviation\n",
    "    X_norm = (X - X_mean) / X_std # feature scaling\n",
    "    return X_norm, X_mean, X_std\n",
    "\n",
    "def plotDecisionBoundary(X, y, theta=False): # visualize data\n",
    "    '''\n",
    "    optimized theta passed is assumed to be numpy ndarray'''\n",
    "    plt.figure()\n",
    "    plt.plot(X[y==1, 0], X[y==1, 1], 'b*', label=\"virginica (1)\")\n",
    "    plt.plot(X[y==0, 0], X[y==0, 1], 'ro', label=\"not-virginica (0)\")\n",
    "    if isinstance(theta, np.ndarray): # plot decision boundary\n",
    "        min_max = np.array([X[:,0].min()-1, X[:,0].max()+1]) # endpoints\n",
    "        boundary = -theta.item(0) / theta.item(2) + min_max * (\n",
    "            - theta.item(1) / theta.item(2))\n",
    "        plt.plot(min_max, boundary, 'k--')\n",
    "    plt.xlabel(\"petal length\")\n",
    "    plt.ylabel(\"petal width\")\n",
    "    plt.legend();\n",
    "\n",
    "def plotCostHistory(costs):\n",
    "    plt.plot(costs, 'r-')\n",
    "    plt.xlabel(\"iterations\")\n",
    "    plt.ylabel(\"cost\")"
   ]
  },
  {
   "cell_type": "code",
   "execution_count": 3,
   "metadata": {},
   "outputs": [],
   "source": [
    "class myLogisticRegression():\n",
    "    '''\n",
    "    My implementation of Logistic Model Gradient Descent'''\n",
    "    def __init__(self, lr=0.1, reg=0):\n",
    "        self.lr = lr # learning rate\n",
    "        self.reg = reg # regularization parameter\n",
    "\n",
    "    def _sigmoid(self, z):\n",
    "        return 1 / (1 + np.exp(-z))\n",
    "             \n",
    "    def _costFunc(self, y, h): # cost function\n",
    "        return -1/len(y) * (np.log(h).T @ y\n",
    "                            + np.log(1 - h).T @ (1-y))\n",
    "        \n",
    "    def _gradient(self, X, y, h): # gradient of cost function\n",
    "        return 1/len(y) * (X.T @ (h - y))\n",
    "     \n",
    "    def gradient_descent(self, X, y, iters=500):\n",
    "        '''\n",
    "        Gradient Descent to train linear regression model.\n",
    "        It is assumed that X already includes the bias term.'''\n",
    "        y = y.reshape(-1,1) # convert to column vector\n",
    "        \n",
    "        # initialize\n",
    "        # the \"self\" designation allows model.costs or model.theta access after fit\n",
    "        self.theta = np.zeros(shape=(X.shape[1], 1))\n",
    "        self.costs = []\n",
    "        \n",
    "        for iter in range(iters):\n",
    "            z = X @ self.theta\n",
    "            h = self._sigmoid(z)\n",
    "            cost = self._costFunc(y, h)\n",
    "            self.costs.append(cost.item()) # appended cost from np.ndarray(1,1) to number\n",
    "            gradients = self._gradient(X, y, h)\n",
    "            self.theta = self.theta - self.lr * gradients\n",
    "        \n",
    "   \n",
    "    def predict_prob(self, X):\n",
    "        '''\n",
    "        predicted probabilities'''\n",
    "        return self._sigmoid(X @ self.theta)\n",
    "    \n",
    "    def predict(self, X, threshold=0.5):\n",
    "        '''binary predictions'''\n",
    "        return (self.predict_prob(X) >= threshold).astype(np.int)   "
   ]
  },
  {
   "cell_type": "markdown",
   "metadata": {},
   "source": [
    "### Training"
   ]
  },
  {
   "cell_type": "code",
   "execution_count": 4,
   "metadata": {},
   "outputs": [
    {
     "name": "stdout",
     "output_type": "stream",
     "text": [
      "dataset keys: ['data', 'target', 'frame', 'target_names', 'DESCR', 'feature_names', 'filename']\n",
      "\n",
      "targets: [0 1 2] for ['setosa' 'versicolor' 'virginica']\n",
      "\n",
      "features: ['sepal length (cm)', 'sepal width (cm)', 'petal length (cm)', 'petal width (cm)']\n"
     ]
    }
   ],
   "source": [
    "# For this exercise, I use is the Iris data set from the\n",
    "# scikit-learn datasets\n",
    "\n",
    "from sklearn import datasets\n",
    "\n",
    "iris = datasets.load_iris()\n",
    "print(f\"dataset keys: {[k for k in iris.keys()]}\\n\")\n",
    "\n",
    "print(f\"targets: {np.unique(iris.target)} for {iris.target_names}\\n\")\n",
    "\n",
    "print(f\"features: {iris.feature_names}\")"
   ]
  },
  {
   "cell_type": "code",
   "execution_count": 5,
   "metadata": {},
   "outputs": [
    {
     "name": "stdout",
     "output_type": "stream",
     "text": [
      "Xb shape: (150, 3)\n",
      "y shape: (150,)\n"
     ]
    },
    {
     "data": {
      "image/png": "[encoded data removed]",
      "text/plain": [
       "<Figure size 432x288 with 1 Axes>"
      ]
     },
     "metadata": {
      "needs_background": "light"
     },
     "output_type": "display_data"
    }
   ],
   "source": [
    "X = iris.data[:, 2:] # selected features, petal-length, -width\n",
    "y = iris.target\n",
    "# convert y to binary\n",
    "y = (y == 2).astype(np.int) # 1 if virginica, 0 if not\n",
    "\n",
    "# visualize data\n",
    "plotDecisionBoundary(X, y, theta=False)\n",
    "\n",
    "Xb = np.c_[np.ones((X.shape[0], 1)), X] # add bias (X0) with ones\n",
    "print(f\"Xb shape: {Xb.shape}\\ny shape: {y.shape}\")"
   ]
  },
  {
   "cell_type": "code",
   "execution_count": 6,
   "metadata": {
    "scrolled": false
   },
   "outputs": [
    {
     "name": "stdout",
     "output_type": "stream",
     "text": [
      "CPU times: user 4.25 ms, sys: 1.02 ms, total: 5.28 ms\n",
      "Wall time: 4.78 ms\n"
     ]
    },
    {
     "data": {
      "image/png": "[encoded data removed]",
      "text/plain": [
       "<Figure size 432x288 with 1 Axes>"
      ]
     },
     "metadata": {
      "needs_background": "light"
     },
     "output_type": "display_data"
    }
   ],
   "source": [
    "model = myLogisticRegression(lr=0.3, reg=0)\n",
    "%time model.gradient_descent(Xb, y, iters=100)\n",
    "\n",
    "# access optimized parameters\n",
    "costs, theta = model.costs, model.theta\n",
    "\n",
    "# plot post optimization decision boundary\n",
    "plotDecisionBoundary(X, y, theta=theta)\n",
    "\n",
    "#plotCostHistory(costs)"
   ]
  },
  {
   "cell_type": "markdown",
   "metadata": {},
   "source": [
    "From visual inspection, most instances seem to have been classified correctly (I'll confirm that with accuracy below). Decision boundary hints the petal width might be a stronger classification feature for (binary) virginica identification."
   ]
  },
  {
   "cell_type": "code",
   "execution_count": 7,
   "metadata": {},
   "outputs": [
    {
     "name": "stdout",
     "output_type": "stream",
     "text": [
      "model accuracy: 0.953\n"
     ]
    }
   ],
   "source": [
    "y_preds = model.predict(Xb, threshold=0.5).reshape(-1,)\n",
    "accuracy = np.mean(y_preds == y)\n",
    "print(f\"model accuracy: {accuracy:.3f}\")"
   ]
  },
  {
   "cell_type": "markdown",
   "metadata": {},
   "source": [
    "### Compare against Logistic Regression from scikit-learn"
   ]
  },
  {
   "cell_type": "code",
   "execution_count": 8,
   "metadata": {},
   "outputs": [
    {
     "name": "stdout",
     "output_type": "stream",
     "text": [
      "CPU times: user 7.92 ms, sys: 351 µs, total: 8.27 ms\n",
      "Wall time: 8.54 ms\n",
      "\n",
      "sklearn model accuracy: 0.960\n"
     ]
    }
   ],
   "source": [
    "from sklearn.linear_model import LogisticRegression\n",
    "\n",
    "sklearn_lg = LogisticRegression(solver=\"lbfgs\", C=10**10, max_iter=100, random_state=42)\n",
    "%time sklearn_lg.fit(Xb, y)\n",
    "print(f\"\\nsklearn model accuracy: {sklearn_lg.score(Xb, y):.3f}\")"
   ]
  },
  {
   "cell_type": "markdown",
   "metadata": {},
   "source": [
    "Although my toy logistic regressor performed resonably compared to the sklearn model in this exercise, sklearn is clearly the recommended, preferred, and robost model with many options and flexibilities."
   ]
  },
  {
   "cell_type": "markdown",
   "metadata": {},
   "source": [
    "Wouldn't it be nice to apply multinomial logistic classifier to predict labels for all flowers? We'll try this with Softmax Regression in the next module."
   ]
  }
 ],
 "metadata": {
  "kernelspec": {
   "display_name": "Python 3",
   "language": "python",
   "name": "python3"
  },
  "language_info": {
   "codemirror_mode": {
    "name": "ipython",
    "version": 3
   },
   "file_extension": ".py",
   "mimetype": "text/x-python",
   "name": "python",
   "nbconvert_exporter": "python",
   "pygments_lexer": "ipython3",
   "version": "3.7.9"
  }
 },
 "nbformat": 4,
 "nbformat_minor": 4
}
